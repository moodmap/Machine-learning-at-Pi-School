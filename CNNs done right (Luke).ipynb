{
 "cells": [
  {
   "cell_type": "code",
   "execution_count": 1,
   "metadata": {},
   "outputs": [
    {
     "name": "stderr",
     "output_type": "stream",
     "text": [
      "/home/jh/anaconda3/envs/pischool/lib/python3.6/site-packages/PIL/Image.py:2244: DecompressionBombWarning: Image size (164045592 pixels) exceeds limit of 89478485 pixels, could be decompression bomb DOS attack.\n",
      "  DecompressionBombWarning)\n"
     ]
    },
    {
     "name": "stdout",
     "output_type": "stream",
     "text": [
      "[[0 0 0 1 0 0]\n",
      " [0 0 0 1 0 0]\n",
      " [0 0 0 1 0 0]\n",
      " [0 1 0 0 0 0]\n",
      " [0 0 0 1 0 0]]\n"
     ]
    }
   ],
   "source": [
    "#Update Tensorflow\n",
    "import tensorflow as tf\n",
    "import matplotlib.pyplot as plt\n",
    "import pandas as pd\n",
    "import os\n",
    "from PIL import Image\n",
    "import numpy as np\n",
    "from sklearn.model_selection import train_test_split\n",
    "%matplotlib inline\n",
    "\n",
    "df = pd.read_excel('/home/jh/ww/data/Pi Master Final 251017.xlsx')\n",
    "\n",
    "#df_final is the desired data wth file name column, and the rest are one hot for labels\n",
    "category = df['Category ']\n",
    "category = df['Category '].str.lower()\n",
    "category = category.str.strip(to_strip=None)\n",
    "category.replace('professions & industries', 'industries & professions',inplace=True)\n",
    "category = pd.get_dummies(category)\n",
    "newdf = df[['File Name ']].copy()\n",
    "\n",
    "df_final = newdf.join(category)\n",
    "\n",
    "x_y_tup = {}\n",
    "\n",
    "x = []\n",
    "y = []\n",
    "\n",
    "#Separating the df_final into image name:label, as a dictionary\n",
    "for df in df_final.as_matrix():\n",
    "    filename, labels = df[0], df[1:]\n",
    "    assert filename not in x_y_tup\n",
    "    x_y_tup[filename] = labels\n",
    "\n",
    "\n",
    "#folder = \"S3 BUCKET\"\n",
    "folder = '/home/jh/ww/imgs'\n",
    "\n",
    "for image_title in os.listdir(folder):\n",
    "    if image_title in x_y_tup:\n",
    "        image = Image.open(os.path.join(folder, image_title))\n",
    "        resized_image = Image.Image.resize(image, [400, 400])\n",
    "        #x now contains the resized image as an array\n",
    "        x.append(np.array(resized_image))\n",
    "        #y now contains the correspinding labels\n",
    "        y.append(x_y_tup[image_title])\n",
    "\n",
    "    else:\n",
    "        # each_image is a new image that we didnt expect\n",
    "        assert False\n",
    "           \n",
    "#X = np.reshape(x, (-1, 400, 400,3)) / 255.\n",
    "y = np.array(y)\n",
    "#X = X.astype('float32')\n",
    "print(y)"
   ]
  },
  {
   "cell_type": "code",
   "execution_count": 8,
   "metadata": {
    "collapsed": true
   },
   "outputs": [],
   "source": [
    "#Setting up layers\n",
    "def layers(X):\n",
    "    \n",
    "    first_layer = tf.reshape(X, shape = [-1, 400, 400, 3])\n",
    "    conv1 = tf.layers.conv2d(first_layer, filters = 30, kernel_size = [3, 3], padding = 'SAME', activation = tf.nn.relu)\n",
    "    pool1 = tf.layers.max_pooling2d(inputs = conv1, pool_size = [2, 2], strides = 2)\n",
    "    flattened = tf.reshape(pool1,[-1, (200*200*30)])\n",
    "    fc1 = tf.layers.dense(inputs = flattened, units = 1024, activation = tf.nn.relu)\n",
    "    dropout = tf.layers.dropout(inputs = fc1, rate = 0.4)\n",
    "    logits = tf.layers.dense(inputs = dropout, units = 6)\n",
    "    \n",
    "    return logits"
   ]
  },
  {
   "cell_type": "code",
   "execution_count": 14,
   "metadata": {
    "collapsed": true
   },
   "outputs": [],
   "source": [
    "#defining placeholders\n",
    "x = tf.placeholder(tf.float32, (None, 400, 400, 3))\n",
    "y = tf.placeholder(tf.float32, None)\n",
    "rate = 0.001\n",
    "logits = layers(x)"
   ]
  },
  {
   "cell_type": "code",
   "execution_count": 16,
   "metadata": {
    "collapsed": true
   },
   "outputs": [],
   "source": [
    "#Loss and backprop\n",
    "cross_entropy = tf.nn.softmax_cross_entropy_with_logits(logits=logits, labels=y)\n",
    "loss_operation = tf.reduce_mean(cross_entropy)\n",
    "optimizer = tf.train.AdamOptimizer(learning_rate=rate)\n",
    "training_operation = optimizer.minimize(loss_operation)"
   ]
  },
  {
   "cell_type": "code",
   "execution_count": 18,
   "metadata": {
    "collapsed": true
   },
   "outputs": [],
   "source": [
    "# 1 is to say just choose the top 1\n",
    "correct_prediction = tf.equal(tf.argmax(logits, 1), tf.argmax(y, 1))\n",
    "accuracy_operation = tf.reduce_mean(tf.cast(correct_prediction, tf.float32))"
   ]
  },
  {
   "cell_type": "code",
   "execution_count": 19,
   "metadata": {
    "collapsed": true
   },
   "outputs": [],
   "source": [
    "#To save the model\n",
    "saver = tf.train.Saver()"
   ]
  },
  {
   "cell_type": "code",
   "execution_count": 22,
   "metadata": {
    "collapsed": true
   },
   "outputs": [],
   "source": [
    "#Evaluating\n",
    "#Calling accuracy_operation, which called the correct_prediction function\n",
    "\n",
    "BATCH_SIZE = 1\n",
    "\n",
    "def evaluate(X_data, y_data):\n",
    "    \n",
    "    num_examples = len(X_data)\n",
    "    total_accuracy = 0\n",
    "    sess = tf.get_default_session()\n",
    "    for offset in range(0, num_examples, BATCH_SIZE):\n",
    "        batch_x, batch_y = X_data[offset:offset+BATCH_SIZE], y_data[offset:offset+BATCH_SIZE]\n",
    "        accuracy = sess.run(accuracy_operation, feed_dict={x:batch_x, y:batch_y})\n",
    "        total_accuracy += (accuracy * len(batch_x))\n",
    "    return total_accuracy / num_examples\n",
    "\n"
   ]
  },
  {
   "cell_type": "code",
   "execution_count": null,
   "metadata": {
    "collapsed": true
   },
   "outputs": [],
   "source": []
  }
 ],
 "metadata": {
  "kernelspec": {
   "display_name": "Python 3",
   "language": "python",
   "name": "python3"
  },
  "language_info": {
   "codemirror_mode": {
    "name": "ipython",
    "version": 3
   },
   "file_extension": ".py",
   "mimetype": "text/x-python",
   "name": "python",
   "nbconvert_exporter": "python",
   "pygments_lexer": "ipython3",
   "version": "3.6.3"
  }
 },
 "nbformat": 4,
 "nbformat_minor": 2
}
